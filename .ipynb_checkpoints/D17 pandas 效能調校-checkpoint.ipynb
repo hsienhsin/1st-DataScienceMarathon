{
 "cells": [
  {
   "cell_type": "markdown",
   "metadata": {
    "id": "13QP9FNpt54x"
   },
   "source": [
    "題目 : \n",
    "\n",
    "1. 在速度較慢的時候，可以先從哪邊開始檢查？\n",
    "2. 資料過大時應採取什麼方式讓記憶體占用量下降？"
   ]
  },
  {
   "cell_type": "markdown",
   "metadata": {},
   "source": [
    "回答\n",
    "1. 資料結構\n",
    "2. 執行階段 以plk格式存取"
   ]
  },
  {
   "cell_type": "code",
   "execution_count": null,
   "metadata": {},
   "outputs": [],
   "source": []
  }
 ],
 "metadata": {
  "colab": {
   "collapsed_sections": [],
   "name": "範例.ipynb",
   "provenance": []
  },
  "kernelspec": {
   "display_name": "Python 3",
   "language": "python",
   "name": "python3"
  },
  "language_info": {
   "codemirror_mode": {
    "name": "ipython",
    "version": 3
   },
   "file_extension": ".py",
   "mimetype": "text/x-python",
   "name": "python",
   "nbconvert_exporter": "python",
   "pygments_lexer": "ipython3",
   "version": "3.7.7"
  }
 },
 "nbformat": 4,
 "nbformat_minor": 1
}
