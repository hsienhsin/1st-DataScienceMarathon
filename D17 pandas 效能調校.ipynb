{
 "cells": [
  {
   "cell_type": "markdown",
   "metadata": {
    "id": "13QP9FNpt54x"
   },
   "source": [
    "題目 : \n",
    "\n",
    "1. 在速度較慢的時候，可以先從哪邊開始檢查？\n",
    "2. 資料過大時應採取什麼方式讓記憶體占用量下降？"
   ]
  },
  {
   "cell_type": "markdown",
   "metadata": {},
   "source": [
    "回答\n",
    "1. 檢查有沒有使用到自訂義的函數，如果有可以查詢pandas中是否有支援相關演算法，如果以上都沒辦法改善，那可以從資料讀取方式下手，將要讀取的資料改成pkl檔\n",
    "2. 將欄位中的型態降級"
   ]
  },
  {
   "cell_type": "code",
   "execution_count": null,
   "metadata": {},
   "outputs": [],
   "source": []
  },
  {
   "cell_type": "code",
   "execution_count": null,
   "metadata": {},
   "outputs": [],
   "source": []
  }
 ],
 "metadata": {
  "colab": {
   "collapsed_sections": [],
   "name": "範例.ipynb",
   "provenance": []
  },
  "kernelspec": {
   "display_name": "Python 3",
   "language": "python",
   "name": "python3"
  },
  "language_info": {
   "codemirror_mode": {
    "name": "ipython",
    "version": 3
   },
   "file_extension": ".py",
   "mimetype": "text/x-python",
   "name": "python",
   "nbconvert_exporter": "python",
   "pygments_lexer": "ipython3",
   "version": "3.7.7"
  }
 },
 "nbformat": 4,
 "nbformat_minor": 1
}
